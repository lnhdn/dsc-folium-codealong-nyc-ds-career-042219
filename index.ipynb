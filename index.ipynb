{
 "cells": [
  {
   "cell_type": "markdown",
   "metadata": {},
   "source": [
    "# Folium - Codealong\n",
    "\n",
    "## Introduction \n",
    "\n",
    "In this codealong, we'll take a look at how to create an interactive map using the Folium package. From there, we'll return to APIs in the final lab for the day where you'll make an interactive map from your requests to the API!\n",
    "\n",
    "## Objectives\n",
    "\n",
    "You will be able to: \n",
    "* Create maps with Folium"
   ]
  },
  {
   "cell_type": "markdown",
   "metadata": {},
   "source": [
    "## Creating a Basemap\n",
    "\n",
    "Here we'll take a look at creating a basemap over the London region!"
   ]
  },
  {
   "cell_type": "code",
   "execution_count": 1,
   "metadata": {
    "scrolled": false
   },
   "outputs": [
    {
     "data": {
      "text/html": [
       "<div style=\"width:100%;\"><div style=\"position:relative;width:100%;height:0;padding-bottom:60%;\"><iframe src=\"data:text/html;charset=utf-8;base64,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\" style=\"position:absolute;width:100%;height:100%;left:0;top:0;border:none !important;\" allowfullscreen webkitallowfullscreen mozallowfullscreen></iframe></div></div>"
      ],
      "text/plain": [
       "<folium.folium.Map at 0x7fe4842ead68>"
      ]
     },
     "execution_count": 1,
     "metadata": {},
     "output_type": "execute_result"
    }
   ],
   "source": [
    "import folium\n",
    "\n",
    "lat = 51.51\n",
    "long = -0.14\n",
    "\n",
    "#Create a map of the area\n",
    "base_map = folium.Map([lat, long], zoom_start=13)\n",
    "base_map"
   ]
  },
  {
   "cell_type": "markdown",
   "metadata": {},
   "source": [
    "## Adding Markers to the Map\n",
    "\n",
    "Great! Now let's take a look at adding little markers to our map!\n",
    "\n",
    "**Note:** you may have to zoom out to see all of the markers!"
   ]
  },
  {
   "cell_type": "code",
   "execution_count": 2,
   "metadata": {},
   "outputs": [
    {
     "data": {
      "text/html": [
       "<div style=\"width:100%;\"><div style=\"position:relative;width:100%;height:0;padding-bottom:60%;\"><iframe src=\"data:text/html;charset=utf-8;base64,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\" style=\"position:absolute;width:100%;height:100%;left:0;top:0;border:none !important;\" allowfullscreen webkitallowfullscreen mozallowfullscreen></iframe></div></div>"
      ],
      "text/plain": [
       "<folium.folium.Map at 0x7fe4842ead68>"
      ]
     },
     "execution_count": 2,
     "metadata": {},
     "output_type": "execute_result"
    }
   ],
   "source": [
    "import numpy as np\n",
    "\n",
    "#Generate some random locations to add to our map\n",
    "x = [lat + np.random.uniform(-.1,.1) for i in range(20)]\n",
    "y = [long + np.random.uniform(-.1,.1) for i in range(20)]\n",
    "points = list(zip(x, y))\n",
    "for p in points:\n",
    "    lat = p[0]\n",
    "    long = p[1]\n",
    "    marker = folium.Marker(location=[lat, long])\n",
    "    marker.add_to(base_map)\n",
    "base_map"
   ]
  },
  {
   "cell_type": "markdown",
   "metadata": {},
   "source": [
    "## Adding Pop-up Boxes to Our Markers\n",
    "\n",
    "Often we may wish to not only place markers on the map, but to create interactive pop-ups which display information to that location. To do this, we can add a popup to our markers when adding them to the map! "
   ]
  },
  {
   "cell_type": "code",
   "execution_count": null,
   "metadata": {},
   "outputs": [],
   "source": [
    "for p in points:\n",
    "    lat = p[0]\n",
    "    long = p[1]\n",
    "    popup_text = \"Latitude: {}, Longitude: {}\".format(lat,long)\n",
    "    popup = folium.Popup(popup_text, parse_html=True)\n",
    "    marker = folium.Marker(location=[lat, long], popup=popup)\n",
    "    marker.add_to(base_map)\n",
    "base_map"
   ]
  },
  {
   "cell_type": "markdown",
   "metadata": {},
   "source": [
    "Now, if you click on the map markers, you should see a little information box pop up!\n",
    "\n",
    "## Summary \n",
    "\n",
    "In this codealong, we learned how to use Folium to create some cool interactive maps with only a few lines of python code! In the next lab, you'll synthesize your skills for the day together and create an interactive visualization map for data you retrieve from the Yelp API!"
   ]
  }
 ],
 "metadata": {
  "kernelspec": {
   "display_name": "Python 3",
   "language": "python",
   "name": "python3"
  },
  "language_info": {
   "codemirror_mode": {
    "name": "ipython",
    "version": 3
   },
   "file_extension": ".py",
   "mimetype": "text/x-python",
   "name": "python",
   "nbconvert_exporter": "python",
   "pygments_lexer": "ipython3",
   "version": "3.6.6"
  }
 },
 "nbformat": 4,
 "nbformat_minor": 2
}
